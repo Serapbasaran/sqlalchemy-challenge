{
 "cells": [
  {
   "cell_type": "code",
   "execution_count": 1,
   "metadata": {},
   "outputs": [],
   "source": [
    "%matplotlib inline\n",
    "from matplotlib import style\n",
    "style.use('fivethirtyeight')\n",
    "import matplotlib.pyplot as plt"
   ]
  },
  {
   "cell_type": "code",
   "execution_count": 2,
   "metadata": {},
   "outputs": [],
   "source": [
    "import numpy as np\n",
    "import pandas as pd"
   ]
  },
  {
   "cell_type": "code",
   "execution_count": 3,
   "metadata": {},
   "outputs": [],
   "source": [
    "import datetime as dt"
   ]
  },
  {
   "cell_type": "markdown",
   "metadata": {},
   "source": [
    "# Reflect Tables into SQLAlchemy ORM"
   ]
  },
  {
   "cell_type": "code",
   "execution_count": 4,
   "metadata": {},
   "outputs": [],
   "source": [
    "# Python SQL toolkit and Object Relational Mapper\n",
    "import sqlalchemy\n",
    "from sqlalchemy.ext.automap import automap_base\n",
    "from sqlalchemy.orm import Session\n",
    "from sqlalchemy import create_engine, func"
   ]
  },
  {
   "cell_type": "code",
   "execution_count": 5,
   "metadata": {},
   "outputs": [],
   "source": [
    "engine = create_engine(\"sqlite:///Resources/hawaii.sqlite\")"
   ]
  },
  {
   "cell_type": "code",
   "execution_count": 6,
   "metadata": {},
   "outputs": [],
   "source": [
    "# reflect an existing database into a new model\n",
    "Base = automap_base()\n",
    "\n",
    "# reflect the tables\n",
    "Base.prepare(engine, reflect=True)"
   ]
  },
  {
   "cell_type": "code",
   "execution_count": 7,
   "metadata": {},
   "outputs": [
    {
     "data": {
      "text/plain": [
       "['measurement', 'station']"
      ]
     },
     "execution_count": 7,
     "metadata": {},
     "output_type": "execute_result"
    }
   ],
   "source": [
    "# We can view all of the classes that automap found\n",
    "Base.classes.keys()"
   ]
  },
  {
   "cell_type": "code",
   "execution_count": 8,
   "metadata": {},
   "outputs": [],
   "source": [
    "# Save references to each table\n",
    "Measurement = Base.classes.measurement\n",
    "Station = Base.classes.station"
   ]
  },
  {
   "cell_type": "code",
   "execution_count": 9,
   "metadata": {},
   "outputs": [],
   "source": [
    "# Create our session (link) from Python to the DB\n",
    "session = Session(engine)"
   ]
  },
  {
   "cell_type": "markdown",
   "metadata": {},
   "source": [
    "# Exploratory Climate Analysis"
   ]
  },
  {
   "cell_type": "code",
   "execution_count": 10,
   "metadata": {},
   "outputs": [
    {
     "data": {
      "text/plain": [
       "('2017-08-23')"
      ]
     },
     "execution_count": 10,
     "metadata": {},
     "output_type": "execute_result"
    }
   ],
   "source": [
    "# Design a query to retrieve the last 12 months of precipitation data and plot the results\n",
    "\n",
    "# Get the last date in the measurement table\n",
    "last_date = session.query(Measurement.date).order_by(Measurement.date.desc()).first()\n",
    "last_date\n"
   ]
  },
  {
   "cell_type": "code",
   "execution_count": 11,
   "metadata": {},
   "outputs": [
    {
     "name": "stdout",
     "output_type": "stream",
     "text": [
      "2016-08-23\n"
     ]
    }
   ],
   "source": [
    "# Calculate the date 1 year ago from the last data point in the database\n",
    "date_oneyear_ago = dt.date(2017,8,23) - dt.timedelta(days=365)\n",
    "print(date_oneyear_ago)                                                      "
   ]
  },
  {
   "cell_type": "code",
   "execution_count": 12,
   "metadata": {},
   "outputs": [],
   "source": [
    "# Perform a query to retrieve the data and precipitation scores\n",
    "prcp_query = session.query(Measurement.date, Measurement.prcp).\\\n",
    "    filter(Measurement.date >= date_oneyear_ago).\\\n",
    "    order_by(Measurement.date).all()\n"
   ]
  },
  {
   "cell_type": "code",
   "execution_count": 13,
   "metadata": {},
   "outputs": [
    {
     "data": {
      "text/html": [
       "<div>\n",
       "<style scoped>\n",
       "    .dataframe tbody tr th:only-of-type {\n",
       "        vertical-align: middle;\n",
       "    }\n",
       "\n",
       "    .dataframe tbody tr th {\n",
       "        vertical-align: top;\n",
       "    }\n",
       "\n",
       "    .dataframe thead th {\n",
       "        text-align: right;\n",
       "    }\n",
       "</style>\n",
       "<table border=\"1\" class=\"dataframe\">\n",
       "  <thead>\n",
       "    <tr style=\"text-align: right;\">\n",
       "      <th></th>\n",
       "      <th>Precipitation</th>\n",
       "    </tr>\n",
       "    <tr>\n",
       "      <th>Date</th>\n",
       "      <th></th>\n",
       "    </tr>\n",
       "  </thead>\n",
       "  <tbody>\n",
       "    <tr>\n",
       "      <th>2016-08-23</th>\n",
       "      <td>0.00</td>\n",
       "    </tr>\n",
       "    <tr>\n",
       "      <th>2016-08-23</th>\n",
       "      <td>0.15</td>\n",
       "    </tr>\n",
       "    <tr>\n",
       "      <th>2016-08-23</th>\n",
       "      <td>0.05</td>\n",
       "    </tr>\n",
       "    <tr>\n",
       "      <th>2016-08-23</th>\n",
       "      <td>NaN</td>\n",
       "    </tr>\n",
       "    <tr>\n",
       "      <th>2016-08-23</th>\n",
       "      <td>0.02</td>\n",
       "    </tr>\n",
       "  </tbody>\n",
       "</table>\n",
       "</div>"
      ],
      "text/plain": [
       "            Precipitation\n",
       "Date                     \n",
       "2016-08-23           0.00\n",
       "2016-08-23           0.15\n",
       "2016-08-23           0.05\n",
       "2016-08-23            NaN\n",
       "2016-08-23           0.02"
      ]
     },
     "execution_count": 13,
     "metadata": {},
     "output_type": "execute_result"
    }
   ],
   "source": [
    "# Save the query results as a Pandas DataFrame and set the index to the date column\n",
    "# Sort the dataframe by date\n",
    "prcp_query_df = pd.DataFrame(prcp_query, columns=['Date','Precipitation'])\n",
    "prcp_query_df.set_index('Date', inplace=True)\n",
    "prcp_query_df.head()"
   ]
  },
  {
   "cell_type": "code",
   "execution_count": 14,
   "metadata": {},
   "outputs": [
    {
     "data": {
      "text/plain": [
       "<matplotlib.axes._subplots.AxesSubplot at 0x22c85f594e0>"
      ]
     },
     "execution_count": 14,
     "metadata": {},
     "output_type": "execute_result"
    },
    {
     "data": {
      "image/png": "[encoded data removed]",
      "text/plain": [
       "<Figure size 648x288 with 1 Axes>"
      ]
     },
     "metadata": {
      "needs_background": "light"
     },
     "output_type": "display_data"
    }
   ],
   "source": [
    "# Use Pandas Plotting with Matplotlib to plot the data\n",
    "prcp_query_df.plot(title=\"Precipitation Analysis\", figsize=(9,4))\n",
    "\n"
   ]
  },
  {
   "cell_type": "code",
   "execution_count": 15,
   "metadata": {},
   "outputs": [
    {
     "data": {
      "text/html": [
       "<div>\n",
       "<style scoped>\n",
       "    .dataframe tbody tr th:only-of-type {\n",
       "        vertical-align: middle;\n",
       "    }\n",
       "\n",
       "    .dataframe tbody tr th {\n",
       "        vertical-align: top;\n",
       "    }\n",
       "\n",
       "    .dataframe thead th {\n",
       "        text-align: right;\n",
       "    }\n",
       "</style>\n",
       "<table border=\"1\" class=\"dataframe\">\n",
       "  <thead>\n",
       "    <tr style=\"text-align: right;\">\n",
       "      <th></th>\n",
       "      <th>Precipitation</th>\n",
       "    </tr>\n",
       "  </thead>\n",
       "  <tbody>\n",
       "    <tr>\n",
       "      <th>count</th>\n",
       "      <td>2021.000000</td>\n",
       "    </tr>\n",
       "    <tr>\n",
       "      <th>mean</th>\n",
       "      <td>0.177279</td>\n",
       "    </tr>\n",
       "    <tr>\n",
       "      <th>std</th>\n",
       "      <td>0.461190</td>\n",
       "    </tr>\n",
       "    <tr>\n",
       "      <th>min</th>\n",
       "      <td>0.000000</td>\n",
       "    </tr>\n",
       "    <tr>\n",
       "      <th>25%</th>\n",
       "      <td>0.000000</td>\n",
       "    </tr>\n",
       "    <tr>\n",
       "      <th>50%</th>\n",
       "      <td>0.020000</td>\n",
       "    </tr>\n",
       "    <tr>\n",
       "      <th>75%</th>\n",
       "      <td>0.130000</td>\n",
       "    </tr>\n",
       "    <tr>\n",
       "      <th>max</th>\n",
       "      <td>6.700000</td>\n",
       "    </tr>\n",
       "  </tbody>\n",
       "</table>\n",
       "</div>"
      ],
      "text/plain": [
       "       Precipitation\n",
       "count    2021.000000\n",
       "mean        0.177279\n",
       "std         0.461190\n",
       "min         0.000000\n",
       "25%         0.000000\n",
       "50%         0.020000\n",
       "75%         0.130000\n",
       "max         6.700000"
      ]
     },
     "execution_count": 15,
     "metadata": {},
     "output_type": "execute_result"
    }
   ],
   "source": [
    "# Use Pandas to calcualte the summary statistics for the precipitation data\n",
    "prcp_query_df.describe()"
   ]
  },
  {
   "cell_type": "code",
   "execution_count": 16,
   "metadata": {},
   "outputs": [
    {
     "data": {
      "text/plain": [
       "9"
      ]
     },
     "execution_count": 16,
     "metadata": {},
     "output_type": "execute_result"
    }
   ],
   "source": [
    "# Design a query to show how many stations are available in this dataset?\n",
    "station_count = session.query(Measurement.station).distinct().count()\n",
    "station_count"
   ]
  },
  {
   "cell_type": "code",
   "execution_count": 17,
   "metadata": {},
   "outputs": [
    {
     "data": {
      "text/plain": [
       "[('USC00519281', 2772),\n",
       " ('USC00519397', 2724),\n",
       " ('USC00513117', 2709),\n",
       " ('USC00519523', 2669),\n",
       " ('USC00516128', 2612),\n",
       " ('USC00514830', 2202),\n",
       " ('USC00511918', 1979),\n",
       " ('USC00517948', 1372),\n",
       " ('USC00518838', 511)]"
      ]
     },
     "execution_count": 17,
     "metadata": {},
     "output_type": "execute_result"
    }
   ],
   "source": [
    "# What are the most active stations? (i.e. what stations have the most rows)?\n",
    "# List the stations and the counts in descending order.\n",
    "most_active_stations = session.query(Measurement.station, func.count(Measurement.station)).\\\n",
    "    group_by(Measurement.station).\\\n",
    "    order_by(func.count(Measurement.station).desc()).all()\n",
    "most_active_stations"
   ]
  },
  {
   "cell_type": "code",
   "execution_count": 18,
   "metadata": {},
   "outputs": [
    {
     "name": "stdout",
     "output_type": "stream",
     "text": [
      "[(54.0,)] [(85.0,)] [(71.66378066378067,)]\n"
     ]
    }
   ],
   "source": [
    "# Using the station id from the previous query, calculate the lowest temperature recorded, \n",
    "# highest temperature recorded, and average temperature of the most active station?\n",
    "lowest_temp = session.query(func.min(Measurement.tobs)).\\\n",
    "    filter(Measurement.station == \"USC00519281\").all()\n",
    "\n",
    "highest_temp = session.query(func.max(Measurement.tobs)).\\\n",
    "    filter(Measurement.station == \"USC00519281\").all()\n",
    "\n",
    "average_temp = session.query(func.avg(Measurement.tobs)).\\\n",
    "    filter(Measurement.station == \"USC00519281\").all()\n",
    "\n",
    "print (lowest_temp, highest_temp, average_temp)"
   ]
  },
  {
   "cell_type": "code",
   "execution_count": 19,
   "metadata": {},
   "outputs": [
    {
     "data": {
      "image/png": "[encoded data removed]",
      "text/plain": [
       "<Figure size 648x360 with 1 Axes>"
      ]
     },
     "metadata": {
      "needs_background": "light"
     },
     "output_type": "display_data"
    }
   ],
   "source": [
    "# Choose the station with the highest number of temperature observations.\n",
    "# Query the last 12 months of temperature observation data for this station and plot the results as a histogram\n",
    "observation_data = session.query(Measurement.date, Measurement.tobs).\\\n",
    "    filter(Measurement.date >= date_oneyear_ago).\\\n",
    "    filter(Measurement.station == \"USC00519281\").\\\n",
    "    order_by(Measurement.date).all()\n",
    "\n",
    "observation_data_df = pd.DataFrame(observation_data, columns=['Date','Tobs'])\n",
    "\n",
    "observation_data_df.plot.hist(bins=12, title=\"Temperature\", figsize=(9,5))\n",
    "plt.xlabel(\"Temperature\")\n",
    "plt.legend(loc=\"upper right\")\n",
    "plt.tight_layout()\n",
    "plt.show()\n"
   ]
  },
  {
   "cell_type": "markdown",
   "metadata": {},
   "source": [
    "## Bonus Challenge Assignment"
   ]
  },
  {
   "cell_type": "code",
   "execution_count": 20,
   "metadata": {},
   "outputs": [
    {
     "name": "stdout",
     "output_type": "stream",
     "text": [
      "[(62.0, 69.57142857142857, 74.0)]\n"
     ]
    }
   ],
   "source": [
    "# This function called `calc_temps` will accept start date and end date in the format '%Y-%m-%d' \n",
    "# and return the minimum, average, and maximum temperatures for that range of dates\n",
    "def calc_temps(start_date, end_date):\n",
    "    \"\"\"TMIN, TAVG, and TMAX for a list of dates.\n",
    "    \n",
    "    Args:\n",
    "        start_date (string): A date string in the format %Y-%m-%d\n",
    "        end_date (string): A date string in the format %Y-%m-%d\n",
    "        \n",
    "    Returns:\n",
    "        TMIN, TAVE, and TMAX\n",
    "    \"\"\"\n",
    "    \n",
    "    return session.query(func.min(Measurement.tobs), func.avg(Measurement.tobs), func.max(Measurement.tobs)).\\\n",
    "        filter(Measurement.date >= start_date).filter(Measurement.date <= end_date).all()\n",
    "\n",
    "# function usage example\n",
    "print(calc_temps('2012-02-28', '2012-03-05'))"
   ]
  },
  {
   "cell_type": "code",
   "execution_count": 21,
   "metadata": {},
   "outputs": [
    {
     "data": {
      "text/plain": [
       "[(68.0, 74.88235294117646, 87.0)]"
      ]
     },
     "execution_count": 21,
     "metadata": {},
     "output_type": "execute_result"
    }
   ],
   "source": [
    "# Use your previous function `calc_temps` to calculate the tmin, tavg, and tmax \n",
    "# for your trip using the previous year's data for those same dates.\n",
    "temp_mytrip = calc_temps('2017-05-14', '2017-05-28')\n",
    "temp_mytrip"
   ]
  },
  {
   "cell_type": "code",
   "execution_count": 22,
   "metadata": {},
   "outputs": [
    {
     "data": {
      "image/png": "[encoded data removed]",
      "text/plain": [
       "<Figure size 288x360 with 1 Axes>"
      ]
     },
     "metadata": {
      "needs_background": "light"
     },
     "output_type": "display_data"
    }
   ],
   "source": [
    "# Plot the results from your previous query as a bar chart. \n",
    "# Use \"Trip Avg Temp\" as your Title\n",
    "# Use the average temperature for the y value\n",
    "# Use the peak-to-peak (tmax-tmin) value as the y error bar (yerr)\n",
    "temp_mytrip_df = pd.DataFrame(temp_mytrip, columns =['tmin','tvag','tmax'])\n",
    "peak_to_peak = temp_mytrip_df['tmax'] - temp_mytrip_df['tmin']\n",
    "temp_mytrip_df.plot.bar( y='tvag', rot=0, title='Trip Avg Temp', yerr=peak_to_peak, figsize=(4,5))\n",
    "plt.ylabel('Temperature (F)')\n",
    "plt.tight_layout()\n",
    "plt.show()"
   ]
  },
  {
   "cell_type": "code",
   "execution_count": 23,
   "metadata": {},
   "outputs": [
    {
     "data": {
      "text/html": [
       "<div>\n",
       "<style scoped>\n",
       "    .dataframe tbody tr th:only-of-type {\n",
       "        vertical-align: middle;\n",
       "    }\n",
       "\n",
       "    .dataframe tbody tr th {\n",
       "        vertical-align: top;\n",
       "    }\n",
       "\n",
       "    .dataframe thead th {\n",
       "        text-align: right;\n",
       "    }\n",
       "</style>\n",
       "<table border=\"1\" class=\"dataframe\">\n",
       "  <thead>\n",
       "    <tr style=\"text-align: right;\">\n",
       "      <th></th>\n",
       "      <th>station</th>\n",
       "      <th>name</th>\n",
       "      <th>latitude</th>\n",
       "      <th>longitude</th>\n",
       "      <th>elevation</th>\n",
       "      <th>rainfall</th>\n",
       "    </tr>\n",
       "  </thead>\n",
       "  <tbody>\n",
       "    <tr>\n",
       "      <th>8</th>\n",
       "      <td>USC00516128</td>\n",
       "      <td>MANOA LYON ARBO 785.2, HI US</td>\n",
       "      <td>21.33310</td>\n",
       "      <td>-157.80250</td>\n",
       "      <td>152.4</td>\n",
       "      <td>1068.09</td>\n",
       "    </tr>\n",
       "    <tr>\n",
       "      <th>6</th>\n",
       "      <td>USC00519281</td>\n",
       "      <td>WAIHEE 837.5, HI US</td>\n",
       "      <td>21.45167</td>\n",
       "      <td>-157.84889</td>\n",
       "      <td>32.9</td>\n",
       "      <td>588.64</td>\n",
       "    </tr>\n",
       "    <tr>\n",
       "      <th>1</th>\n",
       "      <td>USC00513117</td>\n",
       "      <td>KANEOHE 838.1, HI US</td>\n",
       "      <td>21.42340</td>\n",
       "      <td>-157.80150</td>\n",
       "      <td>14.6</td>\n",
       "      <td>382.62</td>\n",
       "    </tr>\n",
       "    <tr>\n",
       "      <th>5</th>\n",
       "      <td>USC00519523</td>\n",
       "      <td>WAIMANALO EXPERIMENTAL FARM, HI US</td>\n",
       "      <td>21.33556</td>\n",
       "      <td>-157.71139</td>\n",
       "      <td>19.5</td>\n",
       "      <td>295.68</td>\n",
       "    </tr>\n",
       "    <tr>\n",
       "      <th>2</th>\n",
       "      <td>USC00514830</td>\n",
       "      <td>KUALOA RANCH HEADQUARTERS 886.9, HI US</td>\n",
       "      <td>21.52130</td>\n",
       "      <td>-157.83740</td>\n",
       "      <td>7.0</td>\n",
       "      <td>234.49</td>\n",
       "    </tr>\n",
       "    <tr>\n",
       "      <th>0</th>\n",
       "      <td>USC00519397</td>\n",
       "      <td>WAIKIKI 717.2, HI US</td>\n",
       "      <td>21.27160</td>\n",
       "      <td>-157.81680</td>\n",
       "      <td>3.0</td>\n",
       "      <td>131.62</td>\n",
       "    </tr>\n",
       "    <tr>\n",
       "      <th>7</th>\n",
       "      <td>USC00511918</td>\n",
       "      <td>HONOLULU OBSERVATORY 702.2, HI US</td>\n",
       "      <td>21.31520</td>\n",
       "      <td>-157.99920</td>\n",
       "      <td>0.9</td>\n",
       "      <td>92.68</td>\n",
       "    </tr>\n",
       "    <tr>\n",
       "      <th>4</th>\n",
       "      <td>USC00518838</td>\n",
       "      <td>UPPER WAHIAWA 874.3, HI US</td>\n",
       "      <td>21.49920</td>\n",
       "      <td>-158.01110</td>\n",
       "      <td>306.6</td>\n",
       "      <td>70.87</td>\n",
       "    </tr>\n",
       "    <tr>\n",
       "      <th>3</th>\n",
       "      <td>USC00517948</td>\n",
       "      <td>PEARL CITY, HI US</td>\n",
       "      <td>21.39340</td>\n",
       "      <td>-157.97510</td>\n",
       "      <td>11.9</td>\n",
       "      <td>43.44</td>\n",
       "    </tr>\n",
       "  </tbody>\n",
       "</table>\n",
       "</div>"
      ],
      "text/plain": [
       "       station                                    name  latitude  longitude  \\\n",
       "8  USC00516128            MANOA LYON ARBO 785.2, HI US  21.33310 -157.80250   \n",
       "6  USC00519281                     WAIHEE 837.5, HI US  21.45167 -157.84889   \n",
       "1  USC00513117                    KANEOHE 838.1, HI US  21.42340 -157.80150   \n",
       "5  USC00519523      WAIMANALO EXPERIMENTAL FARM, HI US  21.33556 -157.71139   \n",
       "2  USC00514830  KUALOA RANCH HEADQUARTERS 886.9, HI US  21.52130 -157.83740   \n",
       "0  USC00519397                    WAIKIKI 717.2, HI US  21.27160 -157.81680   \n",
       "7  USC00511918       HONOLULU OBSERVATORY 702.2, HI US  21.31520 -157.99920   \n",
       "4  USC00518838              UPPER WAHIAWA 874.3, HI US  21.49920 -158.01110   \n",
       "3  USC00517948                       PEARL CITY, HI US  21.39340 -157.97510   \n",
       "\n",
       "   elevation  rainfall  \n",
       "8      152.4   1068.09  \n",
       "6       32.9    588.64  \n",
       "1       14.6    382.62  \n",
       "5       19.5    295.68  \n",
       "2        7.0    234.49  \n",
       "0        3.0    131.62  \n",
       "7        0.9     92.68  \n",
       "4      306.6     70.87  \n",
       "3       11.9     43.44  "
      ]
     },
     "execution_count": 23,
     "metadata": {},
     "output_type": "execute_result"
    }
   ],
   "source": [
    "# Calculate the total amount of rainfall per weather station for your trip dates using the previous year's matching dates.\n",
    "# Sort this in descending order by precipitation amount and list the station, name, latitude, longitude, and elevation\n",
    "total_rainfall = session.query(Measurement.station, func.sum(Measurement.prcp)).\\\n",
    "    group_by(Measurement.station).all()\n",
    "    \n",
    "total_rainfall_df = pd.DataFrame(total_rainfall, columns=['station','rainfall'])\n",
    "station_query = session.query(Station.station, Station.name,Station.latitude,Station.longitude, Station.elevation)\n",
    "station_df = pd.DataFrame(station_query, columns=['station','name','latitude','longitude','elevation'])\n",
    "combined = pd.merge(station_df, total_rainfall_df, on='station', how='inner')\n",
    "combined.sort_values(by=['rainfall'], ascending=False)"
   ]
  },
  {
   "cell_type": "code",
   "execution_count": 24,
   "metadata": {},
   "outputs": [
    {
     "data": {
      "text/plain": [
       "[(62.0, 69.15384615384616, 77.0)]"
      ]
     },
     "execution_count": 24,
     "metadata": {},
     "output_type": "execute_result"
    }
   ],
   "source": [
    "# Create a query that will calculate the daily normals \n",
    "# (i.e. the averages for tmin, tmax, and tavg for all historic data matching a specific month and day)\n",
    "\n",
    "def daily_normals(date):\n",
    "    \"\"\"Daily Normals.\n",
    "    \n",
    "    Args:\n",
    "        date (str): A date string in the format '%m-%d'\n",
    "        \n",
    "    Returns:\n",
    "        A list of tuples containing the daily normals, tmin, tavg, and tmax\n",
    "    \n",
    "    \"\"\"\n",
    "    \n",
    "    sel = [func.min(Measurement.tobs), func.avg(Measurement.tobs), func.max(Measurement.tobs)]\n",
    "    return session.query(*sel).filter(func.strftime(\"%m-%d\", Measurement.date) == date).all()\n",
    "    \n",
    "daily_normals(\"01-01\")"
   ]
  },
  {
   "cell_type": "code",
   "execution_count": 71,
   "metadata": {},
   "outputs": [
    {
     "data": {
      "text/plain": [
       "[(63.0, 73.89285714285714, 80.0),\n",
       " (63.0, 73.69090909090909, 79.0),\n",
       " (68.0, 74.37931034482759, 80.0),\n",
       " (68.0, 74.45, 79.0),\n",
       " (68.0, 74.10714285714286, 82.0),\n",
       " (65.0, 73.80701754385964, 79.0),\n",
       " (68.0, 73.89655172413794, 79.0),\n",
       " (64.0, 72.96428571428571, 80.0),\n",
       " (64.0, 74.45614035087719, 80.0),\n",
       " (68.0, 74.94827586206897, 87.0),\n",
       " (67.0, 73.94827586206897, 79.0),\n",
       " (68.0, 74.27586206896552, 79.0),\n",
       " (65.0, 74.03636363636363, 82.0),\n",
       " (65.0, 74.49090909090908, 80.0),\n",
       " (67.0, 74.27777777777777, 82.0)]"
      ]
     },
     "execution_count": 71,
     "metadata": {},
     "output_type": "execute_result"
    }
   ],
   "source": [
    "# calculate the daily normals for your trip\n",
    "# push each tuple of calculations into a list called `normals`\n",
    "\n",
    "# Set the start and end date of the trip\n",
    "start_date = dt.date(2017,5,14)\n",
    "\n",
    "# Use the start and end date to create a range of dates\n",
    "day_series = pd.Series(pd.date_range(start_date, periods=15, freq=\"d\"))\n",
    "\n",
    "# Stip off the year and save a list of %m-%d strings\n",
    "trip_days = day_series.dt.strftime('%m-%d')\n",
    "\n",
    "# Loop through the list of %m-%d strings and calculate the normals for each date\n",
    "normals=[]\n",
    "for date in trip_days:\n",
    "    for temperature in daily_normals(date):\n",
    "        normals.append(temperature)\n",
    "    \n",
    "normals\n"
   ]
  },
  {
   "cell_type": "code",
   "execution_count": 80,
   "metadata": {},
   "outputs": [
    {
     "data": {
      "text/html": [
       "<div>\n",
       "<style scoped>\n",
       "    .dataframe tbody tr th:only-of-type {\n",
       "        vertical-align: middle;\n",
       "    }\n",
       "\n",
       "    .dataframe tbody tr th {\n",
       "        vertical-align: top;\n",
       "    }\n",
       "\n",
       "    .dataframe thead th {\n",
       "        text-align: right;\n",
       "    }\n",
       "</style>\n",
       "<table border=\"1\" class=\"dataframe\">\n",
       "  <thead>\n",
       "    <tr style=\"text-align: right;\">\n",
       "      <th></th>\n",
       "      <th>TMIN</th>\n",
       "      <th>TAVG</th>\n",
       "      <th>TMAX</th>\n",
       "    </tr>\n",
       "    <tr>\n",
       "      <th>Date</th>\n",
       "      <th></th>\n",
       "      <th></th>\n",
       "      <th></th>\n",
       "    </tr>\n",
       "  </thead>\n",
       "  <tbody>\n",
       "    <tr>\n",
       "      <th>05-14</th>\n",
       "      <td>63.0</td>\n",
       "      <td>73.892857</td>\n",
       "      <td>80.0</td>\n",
       "    </tr>\n",
       "    <tr>\n",
       "      <th>05-15</th>\n",
       "      <td>63.0</td>\n",
       "      <td>73.690909</td>\n",
       "      <td>79.0</td>\n",
       "    </tr>\n",
       "    <tr>\n",
       "      <th>05-16</th>\n",
       "      <td>68.0</td>\n",
       "      <td>74.379310</td>\n",
       "      <td>80.0</td>\n",
       "    </tr>\n",
       "    <tr>\n",
       "      <th>05-17</th>\n",
       "      <td>68.0</td>\n",
       "      <td>74.450000</td>\n",
       "      <td>79.0</td>\n",
       "    </tr>\n",
       "    <tr>\n",
       "      <th>05-18</th>\n",
       "      <td>68.0</td>\n",
       "      <td>74.107143</td>\n",
       "      <td>82.0</td>\n",
       "    </tr>\n",
       "    <tr>\n",
       "      <th>05-19</th>\n",
       "      <td>65.0</td>\n",
       "      <td>73.807018</td>\n",
       "      <td>79.0</td>\n",
       "    </tr>\n",
       "    <tr>\n",
       "      <th>05-20</th>\n",
       "      <td>68.0</td>\n",
       "      <td>73.896552</td>\n",
       "      <td>79.0</td>\n",
       "    </tr>\n",
       "    <tr>\n",
       "      <th>05-21</th>\n",
       "      <td>64.0</td>\n",
       "      <td>72.964286</td>\n",
       "      <td>80.0</td>\n",
       "    </tr>\n",
       "    <tr>\n",
       "      <th>05-22</th>\n",
       "      <td>64.0</td>\n",
       "      <td>74.456140</td>\n",
       "      <td>80.0</td>\n",
       "    </tr>\n",
       "    <tr>\n",
       "      <th>05-23</th>\n",
       "      <td>68.0</td>\n",
       "      <td>74.948276</td>\n",
       "      <td>87.0</td>\n",
       "    </tr>\n",
       "    <tr>\n",
       "      <th>05-24</th>\n",
       "      <td>67.0</td>\n",
       "      <td>73.948276</td>\n",
       "      <td>79.0</td>\n",
       "    </tr>\n",
       "    <tr>\n",
       "      <th>05-25</th>\n",
       "      <td>68.0</td>\n",
       "      <td>74.275862</td>\n",
       "      <td>79.0</td>\n",
       "    </tr>\n",
       "    <tr>\n",
       "      <th>05-26</th>\n",
       "      <td>65.0</td>\n",
       "      <td>74.036364</td>\n",
       "      <td>82.0</td>\n",
       "    </tr>\n",
       "    <tr>\n",
       "      <th>05-27</th>\n",
       "      <td>65.0</td>\n",
       "      <td>74.490909</td>\n",
       "      <td>80.0</td>\n",
       "    </tr>\n",
       "    <tr>\n",
       "      <th>05-28</th>\n",
       "      <td>67.0</td>\n",
       "      <td>74.277778</td>\n",
       "      <td>82.0</td>\n",
       "    </tr>\n",
       "  </tbody>\n",
       "</table>\n",
       "</div>"
      ],
      "text/plain": [
       "       TMIN       TAVG  TMAX\n",
       "Date                        \n",
       "05-14  63.0  73.892857  80.0\n",
       "05-15  63.0  73.690909  79.0\n",
       "05-16  68.0  74.379310  80.0\n",
       "05-17  68.0  74.450000  79.0\n",
       "05-18  68.0  74.107143  82.0\n",
       "05-19  65.0  73.807018  79.0\n",
       "05-20  68.0  73.896552  79.0\n",
       "05-21  64.0  72.964286  80.0\n",
       "05-22  64.0  74.456140  80.0\n",
       "05-23  68.0  74.948276  87.0\n",
       "05-24  67.0  73.948276  79.0\n",
       "05-25  68.0  74.275862  79.0\n",
       "05-26  65.0  74.036364  82.0\n",
       "05-27  65.0  74.490909  80.0\n",
       "05-28  67.0  74.277778  82.0"
      ]
     },
     "execution_count": 80,
     "metadata": {},
     "output_type": "execute_result"
    }
   ],
   "source": [
    "# Load the previous query results into a Pandas DataFrame and add the `trip_dates` range as the `date` \n",
    "normals_df = pd.DataFrame(normals, columns = ['TMIN', 'TAVG', 'TMAX'])\n",
    "normals_df['Date'] = trip_days\n",
    "normals_df.set_index('Date')"
   ]
  },
  {
   "cell_type": "code",
   "execution_count": 93,
   "metadata": {},
   "outputs": [
    {
     "data": {
      "text/plain": [
       "<matplotlib.legend.Legend at 0x22c87961710>"
      ]
     },
     "execution_count": 93,
     "metadata": {},
     "output_type": "execute_result"
    },
    {
     "data": {
      "image/png": "[encoded data removed]",
      "text/plain": [
       "<Figure size 432x288 with 1 Axes>"
      ]
     },
     "metadata": {
      "needs_background": "light"
     },
     "output_type": "display_data"
    }
   ],
   "source": [
    "# Plot the daily normals as an area plot with `stacked=False`\n",
    "ax = normals_df.plot.area(x='Date',stacked=False, rot = 60)\n",
    "ax.set_title('Daily Temperatures for May 14-28')\n",
    "ax.set_ylabel('Temperature (F)')\n",
    "ax.legend(loc=\"lower right\")\n"
   ]
  },
  {
   "cell_type": "code",
   "execution_count": 65,
   "metadata": {},
   "outputs": [
    {
     "data": {
      "text/plain": [
       "[('2017-05-14', 70.0, 75.4, 78.0),\n",
       " ('2017-05-15', 72.0, 75.5, 78.0),\n",
       " ('2017-05-16', 71.0, 75.16666666666667, 78.0),\n",
       " ('2017-05-17', 71.0, 75.5, 78.0),\n",
       " ('2017-05-18', 69.0, 71.66666666666667, 78.0),\n",
       " ('2017-05-19', 68.0, 73.25, 79.0),\n",
       " ('2017-05-20', 70.0, 75.66666666666667, 79.0),\n",
       " ('2017-05-21', 69.0, 74.2, 80.0),\n",
       " ('2017-05-22', 71.0, 75.16666666666667, 79.0),\n",
       " ('2017-05-23', 69.0, 75.66666666666667, 87.0),\n",
       " ('2017-05-24', 70.0, 74.66666666666667, 77.0),\n",
       " ('2017-05-25', 69.0, 74.83333333333333, 79.0),\n",
       " ('2017-05-26', 72.0, 75.0, 79.0),\n",
       " ('2017-05-27', 69.0, 74.5, 79.0),\n",
       " ('2017-05-28', 71.0, 76.5, 82.0),\n",
       " ('2017-05-29', 71.0, 75.8, 80.0),\n",
       " ('2017-05-30', 72.0, 75.5, 81.0),\n",
       " ('2017-05-31', 75.0, 78.0, 81.0),\n",
       " ('2017-06-01', 74.0, 78.16666666666667, 81.0),\n",
       " ('2017-06-02', 76.0, 78.16666666666667, 81.0),\n",
       " ('2017-06-03', 74.0, 77.33333333333333, 80.0),\n",
       " ('2017-06-04', 77.0, 78.5, 81.0),\n",
       " ('2017-06-05', 74.0, 77.42857142857143, 81.0),\n",
       " ('2017-06-06', 74.0, 77.28571428571429, 80.0),\n",
       " ('2017-06-07', 75.0, 78.14285714285714, 81.0),\n",
       " ('2017-06-08', 75.0, 77.14285714285714, 80.0),\n",
       " ('2017-06-09', 72.0, 78.16666666666667, 81.0),\n",
       " ('2017-06-10', 72.0, 75.16666666666667, 78.0),\n",
       " ('2017-06-11', 73.0, 77.0, 81.0),\n",
       " ('2017-06-12', 74.0, 77.66666666666667, 83.0),\n",
       " ('2017-06-13', 73.0, 76.85714285714286, 81.0),\n",
       " ('2017-06-14', 74.0, 77.28571428571429, 80.0),\n",
       " ('2017-06-15', 75.0, 77.14285714285714, 78.0),\n",
       " ('2017-06-16', 73.0, 77.14285714285714, 80.0),\n",
       " ('2017-06-17', 72.0, 77.16666666666667, 80.0),\n",
       " ('2017-06-18', 72.0, 76.0, 78.0),\n",
       " ('2017-06-19', 72.0, 77.0, 80.0),\n",
       " ('2017-06-20', 72.0, 75.83333333333333, 79.0),\n",
       " ('2017-06-21', 74.0, 77.66666666666667, 82.0),\n",
       " ('2017-06-22', 72.0, 77.66666666666667, 81.0),\n",
       " ('2017-06-23', 71.0, 75.42857142857143, 79.0),\n",
       " ('2017-06-24', 73.0, 77.2, 82.0),\n",
       " ('2017-06-25', 71.0, 76.6, 80.0),\n",
       " ('2017-06-26', 73.0, 79.0, 82.0),\n",
       " ('2017-06-27', 74.0, 78.0, 81.0),\n",
       " ('2017-06-28', 74.0, 77.66666666666667, 80.0),\n",
       " ('2017-06-29', 76.0, 77.14285714285714, 79.0),\n",
       " ('2017-06-30', 74.0, 75.71428571428571, 81.0),\n",
       " ('2017-07-01', 74.0, 77.25, 80.0),\n",
       " ('2017-07-02', 77.0, 79.2, 81.0),\n",
       " ('2017-07-03', 76.0, 79.57142857142857, 87.0),\n",
       " ('2017-07-04', 77.0, 78.0, 80.0),\n",
       " ('2017-07-05', 75.0, 78.57142857142857, 81.0),\n",
       " ('2017-07-06', 74.0, 77.16666666666667, 81.0),\n",
       " ('2017-07-07', 74.0, 77.14285714285714, 79.0),\n",
       " ('2017-07-08', 71.0, 77.16666666666667, 81.0),\n",
       " ('2017-07-09', 76.0, 79.33333333333333, 82.0),\n",
       " ('2017-07-10', 69.0, 77.85714285714286, 82.0),\n",
       " ('2017-07-11', 72.0, 77.0, 81.0),\n",
       " ('2017-07-12', 72.0, 78.28571428571429, 82.0),\n",
       " ('2017-07-13', 74.0, 78.14285714285714, 81.0),\n",
       " ('2017-07-14', 76.0, 78.83333333333333, 81.0),\n",
       " ('2017-07-15', 78.0, 80.16666666666667, 82.0),\n",
       " ('2017-07-16', 75.0, 78.33333333333333, 82.0),\n",
       " ('2017-07-17', 72.0, 77.83333333333333, 82.0),\n",
       " ('2017-07-18', 76.0, 79.14285714285714, 83.0),\n",
       " ('2017-07-19', 74.0, 78.16666666666667, 81.0),\n",
       " ('2017-07-20', 75.0, 78.42857142857143, 80.0),\n",
       " ('2017-07-21', 72.0, 78.14285714285714, 81.0),\n",
       " ('2017-07-22', 72.0, 77.66666666666667, 81.0),\n",
       " ('2017-07-23', 75.0, 79.6, 82.0),\n",
       " ('2017-07-24', 75.0, 77.66666666666667, 79.0),\n",
       " ('2017-07-25', 77.0, 79.28571428571429, 81.0),\n",
       " ('2017-07-26', 73.0, 78.42857142857143, 84.0),\n",
       " ('2017-07-27', 75.0, 78.0, 80.0),\n",
       " ('2017-07-28', 73.0, 79.14285714285714, 81.0),\n",
       " ('2017-07-29', 77.0, 80.5, 83.0),\n",
       " ('2017-07-30', 78.0, 80.6, 84.0),\n",
       " ('2017-07-31', 74.0, 78.71428571428571, 82.0),\n",
       " ('2017-08-01', 72.0, 74.5, 77.0),\n",
       " ('2017-08-02', 73.0, 79.0, 83.0),\n",
       " ('2017-08-03', 76.0, 79.0, 81.0),\n",
       " ('2017-08-04', 77.0, 80.0, 82.0),\n",
       " ('2017-08-05', 77.0, 80.0, 82.0),\n",
       " ('2017-08-06', 79.0, 81.4, 83.0),\n",
       " ('2017-08-07', 78.0, 80.5, 83.0),\n",
       " ('2017-08-08', 74.0, 78.5, 82.0),\n",
       " ('2017-08-09', 71.0, 77.33333333333333, 81.0),\n",
       " ('2017-08-10', 75.0, 79.25, 81.0),\n",
       " ('2017-08-11', 72.0, 78.0, 81.0),\n",
       " ('2017-08-12', 74.0, 79.0, 83.0),\n",
       " ('2017-08-13', 77.0, 80.6, 84.0),\n",
       " ('2017-08-14', 75.0, 78.2, 81.0),\n",
       " ('2017-08-15', 70.0, 77.2, 82.0),\n",
       " ('2017-08-16', 71.0, 77.0, 82.0),\n",
       " ('2017-08-17', 72.0, 77.25, 83.0),\n",
       " ('2017-08-18', 76.0, 78.0, 80.0),\n",
       " ('2017-08-19', 71.0, 78.75, 85.0),\n",
       " ('2017-08-20', 78.0, 79.66666666666667, 81.0),\n",
       " ('2017-08-21', 76.0, 79.5, 82.0),\n",
       " ('2017-08-22', 76.0, 80.0, 82.0),\n",
       " ('2017-08-23', 76.0, 80.25, 82.0)]"
      ]
     },
     "execution_count": 65,
     "metadata": {},
     "output_type": "execute_result"
    }
   ],
   "source": [
    "start_date = \"2017-05-14\"      \n",
    "data = session.query(Measurement.date, func.min(Measurement.tobs), func.avg(Measurement.tobs), func.max(Measurement.tobs)).\\\n",
    "filter(Measurement.date >= start_date).\\\n",
    "group_by(Measurement.date).all()\n",
    "\n",
    "list(data)\n",
    "\n",
    "    "
   ]
  },
  {
   "cell_type": "code",
   "execution_count": null,
   "metadata": {},
   "outputs": [],
   "source": []
  },
  {
   "cell_type": "code",
   "execution_count": null,
   "metadata": {},
   "outputs": [],
   "source": []
  }
 ],
 "metadata": {
  "kernel_info": {
   "name": "python3"
  },
  "kernelspec": {
   "display_name": "Python 3",
   "language": "python",
   "name": "python3"
  },
  "language_info": {
   "codemirror_mode": {
    "name": "ipython",
    "version": 3
   },
   "file_extension": ".py",
   "mimetype": "text/x-python",
   "name": "python",
   "nbconvert_exporter": "python",
   "pygments_lexer": "ipython3",
   "version": "3.6.10"
  },
  "nteract": {
   "version": "0.12.3"
  },
  "varInspector": {
   "cols": {
    "lenName": 16,
    "lenType": 16,
    "lenVar": 40
   },
   "kernels_config": {
    "python": {
     "delete_cmd_postfix": "",
     "delete_cmd_prefix": "del ",
     "library": "var_list.py",
     "varRefreshCmd": "print(var_dic_list())"
    },
    "r": {
     "delete_cmd_postfix": ") ",
     "delete_cmd_prefix": "rm(",
     "library": "var_list.r",
     "varRefreshCmd": "cat(var_dic_list()) "
    }
   },
   "types_to_exclude": [
    "module",
    "function",
    "builtin_function_or_method",
    "instance",
    "_Feature"
   ],
   "window_display": false
  }
 },
 "nbformat": 4,
 "nbformat_minor": 2
}
